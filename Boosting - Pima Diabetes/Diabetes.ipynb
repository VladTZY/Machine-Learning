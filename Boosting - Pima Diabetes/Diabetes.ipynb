{
 "cells": [
  {
   "cell_type": "markdown",
   "metadata": {},
   "source": [
    "# Boosting"
   ]
  },
  {
   "cell_type": "code",
   "execution_count": 9,
   "metadata": {},
   "outputs": [
    {
     "name": "stdout",
     "output_type": "stream",
     "text": [
      "Mean accuracy 0.75\n",
      "Standard deviation 0.02862214930007101\n"
     ]
    },
    {
     "data": {
      "text/plain": [
       "array([[104,  15],\n",
       "       [ 30,  43]], dtype=int64)"
      ]
     },
     "execution_count": 9,
     "metadata": {},
     "output_type": "execute_result"
    }
   ],
   "source": [
    "import pandas as pd\n",
    "import numpy as np\n",
    "from sklearn.model_selection import train_test_split\n",
    "from sklearn.metrics import accuracy_score\n",
    "from sklearn.metrics import confusion_matrix\n",
    "from sklearn.ensemble import AdaBoostClassifier\n",
    "\n",
    "data = pd.read_csv(\"diabetes.csv\")\n",
    "\n",
    "dx = data.drop(\"Outcome\", axis = 1)\n",
    "dy = data[[\"Outcome\"]]\n",
    "\n",
    "repeats = 30\n",
    "accuracies = []\n",
    "\n",
    "for i in range(0, repeats):\n",
    "    dx_train, dx_test, dy_train, dy_test = train_test_split(dx, dy, test_size = 0.25)\n",
    "\n",
    "    adm = AdaBoostClassifier(n_estimators=25)\n",
    "    adm.fit(dx_train, dy_train.values.ravel())\n",
    "\n",
    "    dy_pred = adm.predict(dx_test)\n",
    "    accuracies.append(accuracy_score(dy_test, dy_pred))\n",
    "\n",
    "print(\"Mean accuracy\", np.mean(accuracies))\n",
    "print(\"Standard deviation\", np.std(accuracies))\n",
    "confusion_matrix(dy_test, dy_pred)\n"
   ]
  }
 ],
 "metadata": {
  "kernelspec": {
   "display_name": "base",
   "language": "python",
   "name": "python3"
  },
  "language_info": {
   "codemirror_mode": {
    "name": "ipython",
    "version": 3
   },
   "file_extension": ".py",
   "mimetype": "text/x-python",
   "name": "python",
   "nbconvert_exporter": "python",
   "pygments_lexer": "ipython3",
   "version": "3.11.5"
  }
 },
 "nbformat": 4,
 "nbformat_minor": 2
}
