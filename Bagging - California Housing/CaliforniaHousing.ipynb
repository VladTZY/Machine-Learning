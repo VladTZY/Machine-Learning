{
 "cells": [
  {
   "cell_type": "markdown",
   "metadata": {},
   "source": [
    "# Bagging Regression"
   ]
  },
  {
   "cell_type": "code",
   "execution_count": 1,
   "metadata": {},
   "outputs": [
    {
     "name": "stdout",
     "output_type": "stream",
     "text": [
      "Mean MSE: 0.6431779899370499\n",
      "Standard deviation: 0.04633929628600423\n",
      "R^2: 0.5170836116832505\n"
     ]
    }
   ],
   "source": [
    "import matplotlib.pyplot as plt\n",
    "import numpy as np\n",
    "\n",
    "from sklearn import datasets\n",
    "from sklearn.model_selection import train_test_split\n",
    "from sklearn.metrics import mean_squared_error\n",
    "from sklearn.metrics import r2_score\n",
    "from sklearn.ensemble import BaggingRegressor\n",
    "\n",
    "bx, by = datasets.fetch_california_housing(return_X_y=True)\n",
    "\n",
    "repeats = 30\n",
    "mses = []\n",
    "r2s = []\n",
    "\n",
    "for i in range(0, repeats):\n",
    "    bx_train, bx_test, by_train, by_test = train_test_split(bx, by, test_size = 0.25)\n",
    "\n",
    "    bgm = BaggingRegressor(n_estimators=25, max_samples=50, max_features=4, oob_score=True)\n",
    "    bgm.fit(bx_train, by_train)\n",
    "\n",
    "    by_pred = bgm.predict(bx_test)\n",
    "    mses.append(mean_squared_error(by_test, by_pred))\n",
    "    r2s.append(r2_score(by_test, by_pred))\n",
    "\n",
    "print(\"Mean MSE:\", np.mean(mses))\n",
    "print(\"Standard deviation:\", np.std(mses))\n",
    "print(\"R^2:\", np.mean(r2s))"
   ]
  }
 ],
 "metadata": {
  "kernelspec": {
   "display_name": "base",
   "language": "python",
   "name": "python3"
  },
  "language_info": {
   "codemirror_mode": {
    "name": "ipython",
    "version": 3
   },
   "file_extension": ".py",
   "mimetype": "text/x-python",
   "name": "python",
   "nbconvert_exporter": "python",
   "pygments_lexer": "ipython3",
   "version": "3.11.5"
  }
 },
 "nbformat": 4,
 "nbformat_minor": 2
}
