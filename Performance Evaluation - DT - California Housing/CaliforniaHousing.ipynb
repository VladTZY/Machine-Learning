{
 "cells": [
  {
   "cell_type": "code",
   "execution_count": 4,
   "metadata": {},
   "outputs": [
    {
     "name": "stdout",
     "output_type": "stream",
     "text": [
      "MSE: 0.6298681292084481\n",
      "RMSE: 0.793642318181464\n",
      "MAE: 0.5951135661847712\n",
      "MAPE: 0.3756275522221932\n",
      "R^2: 0.5256285750579173\n",
      "Adjusted R^2: 2448.2821812762045\n",
      "WilcoxonResult(statistic=0.0, pvalue=1.862645149230957e-09)\n"
     ]
    }
   ],
   "source": [
    "import matplotlib.pyplot as plt\n",
    "import numpy as np\n",
    "import math\n",
    "\n",
    "from sklearn import datasets\n",
    "from sklearn.model_selection import train_test_split\n",
    "from sklearn.metrics import mean_squared_error\n",
    "from sklearn.metrics import mean_absolute_error\n",
    "from sklearn.metrics import mean_absolute_percentage_error\n",
    "from sklearn.metrics import r2_score\n",
    "from sklearn.tree import DecisionTreeRegressor\n",
    "from sklearn import svm\n",
    "import scipy.stats as stats\n",
    "from sklearn.preprocessing import MinMaxScaler\n",
    "\n",
    "def getAjustedR2(actual, predicted) :\n",
    "    return 1 - (1 - r2_score(actual, predicted) ) * (len(predicted) - 1) / (len(predicted) - actual.shape[0] - 1); \n",
    "\n",
    "\n",
    "bx, by = datasets.fetch_california_housing(return_X_y=True)\n",
    "\n",
    "repeats = 30\n",
    "mses = []\n",
    "maes = []\n",
    "mapes = []\n",
    "r2s = []\n",
    "ar2s = []\n",
    "\n",
    "msesSVM = []\n",
    "\n",
    "scaler = MinMaxScaler()\n",
    "\n",
    "for i in range(0, repeats):\n",
    "    bx_train, bx_test, by_train, by_test = train_test_split(bx, by, test_size = 0.25)\n",
    "\n",
    "    #DT\n",
    "    dtm = DecisionTreeRegressor(max_depth=3)\n",
    "    dtm.fit(bx_train, by_train)\n",
    "\n",
    "    by_pred = dtm.predict(bx_test)\n",
    "    mses.append(mean_squared_error(by_test, by_pred))\n",
    "    maes.append(mean_absolute_error(by_test, by_pred))\n",
    "    mapes.append(mean_absolute_percentage_error(by_test, by_pred))\n",
    "    r2s.append(r2_score(by_test, by_pred))\n",
    "    ar2s.append(getAjustedR2(by_test, by_pred))\n",
    "\n",
    "    #SVM\n",
    "    fit_scalar = scaler.fit(bx_train)\n",
    "    bx_train_scaled = fit_scalar.transform(bx_train)\n",
    "\n",
    "    svmm = svm.SVR(kernel=\"rbf\")\n",
    "    svmm.fit(bx_train_scaled, by_train)\n",
    "\n",
    "    bx_test_scaled = fit_scalar.transform(bx_test)\n",
    "    by_predSVM = svmm.predict(bx_test_scaled)\n",
    "\n",
    "    msesSVM.append(mean_squared_error(by_test, by_predSVM))\n",
    "\n",
    "\n",
    "print(\"MSE:\", np.mean(mses))\n",
    "print(\"RMSE:\", math.sqrt(np.mean(mses)))\n",
    "print(\"MAE:\", np.mean(maes))\n",
    "print(\"MAPE:\", np.mean(mapes))\n",
    "print(\"R^2:\", np.mean(r2s))\n",
    "print(\"Adjusted R^2:\", np.mean(ar2s))\n",
    "print(stats.wilcoxon(mses, msesSVM))"
   ]
  }
 ],
 "metadata": {
  "kernelspec": {
   "display_name": "base",
   "language": "python",
   "name": "python3"
  },
  "language_info": {
   "codemirror_mode": {
    "name": "ipython",
    "version": 3
   },
   "file_extension": ".py",
   "mimetype": "text/x-python",
   "name": "python",
   "nbconvert_exporter": "python",
   "pygments_lexer": "ipython3",
   "version": "3.11.5"
  }
 },
 "nbformat": 4,
 "nbformat_minor": 2
}
