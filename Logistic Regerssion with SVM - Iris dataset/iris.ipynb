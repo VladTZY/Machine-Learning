{
 "cells": [
  {
   "cell_type": "markdown",
   "metadata": {},
   "source": [
    "Iris dataset solved with Support Vector Machine - Note: works better than with NN"
   ]
  },
  {
   "cell_type": "code",
   "execution_count": 8,
   "metadata": {},
   "outputs": [
    {
     "name": "stdout",
     "output_type": "stream",
     "text": [
      "Mean accuracy 0.9842105263157893\n",
      "Standard deviation 0.019925994195790445\n"
     ]
    },
    {
     "data": {
      "text/plain": [
       "array([[13,  0,  0],\n",
       "       [ 0, 12,  0],\n",
       "       [ 0,  0, 13]], dtype=int64)"
      ]
     },
     "execution_count": 8,
     "metadata": {},
     "output_type": "execute_result"
    }
   ],
   "source": [
    "import numpy as np\n",
    "\n",
    "from sklearn.metrics import accuracy_score\n",
    "from sklearn.metrics import confusion_matrix\n",
    "from sklearn.model_selection import train_test_split\n",
    "from sklearn import svm\n",
    "from sklearn import datasets\n",
    "\n",
    "repeats = 30\n",
    "accuracies = []\n",
    "\n",
    "dx, dy = datasets.load_iris(return_X_y=True)\n",
    "\n",
    "for i in range(0, repeats):\n",
    "    dx_train, dx_test, dy_train, dy_test = train_test_split(dx, dy, test_size=0.25)\n",
    "    my_svm = svm.SVC(kernel=\"linear\")\n",
    "    my_svm.fit(dx_train, dy_train)\n",
    "    dy_pred = my_svm.predict(dx_test)\n",
    "\n",
    "    accuracies.append(accuracy_score(dy_test, dy_pred))\n",
    "\n",
    "print(\"Mean accuracy\", np.mean(accuracies))\n",
    "print(\"Standard deviation\", np.std(accuracies))\n",
    "confusion_matrix(dy_test, dy_pred)"
   ]
  }
 ],
 "metadata": {
  "kernelspec": {
   "display_name": "base",
   "language": "python",
   "name": "python3"
  },
  "language_info": {
   "codemirror_mode": {
    "name": "ipython",
    "version": 3
   },
   "file_extension": ".py",
   "mimetype": "text/x-python",
   "name": "python",
   "nbconvert_exporter": "python",
   "pygments_lexer": "ipython3",
   "version": "3.11.5"
  }
 },
 "nbformat": 4,
 "nbformat_minor": 2
}
