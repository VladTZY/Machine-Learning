{
 "cells": [
  {
   "cell_type": "markdown",
   "metadata": {},
   "source": [
    "Iris dataset solved with XGBoost"
   ]
  },
  {
   "cell_type": "code",
   "execution_count": 6,
   "metadata": {},
   "outputs": [
    {
     "name": "stdout",
     "output_type": "stream",
     "text": [
      "Mean accuracy 0.9359649122807017\n",
      "Standard deviation 0.034434713028755295\n"
     ]
    },
    {
     "data": {
      "text/plain": [
       "array([[13,  0,  0],\n",
       "       [ 1, 13,  0],\n",
       "       [ 0,  1, 10]], dtype=int64)"
      ]
     },
     "execution_count": 6,
     "metadata": {},
     "output_type": "execute_result"
    }
   ],
   "source": [
    "import numpy as np\n",
    "import xgboost as xgb\n",
    "import matplotlib.pyplot as plt\n",
    "\n",
    "from sklearn.metrics import accuracy_score\n",
    "from sklearn.metrics import confusion_matrix\n",
    "from sklearn.model_selection import train_test_split\n",
    "from sklearn import datasets\n",
    "from xgboost import XGBClassifier\n",
    "\n",
    "repeats = 30\n",
    "accuracies = []\n",
    "\n",
    "dx, dy = datasets.load_iris(return_X_y=True)\n",
    "\n",
    "for i in range(0, repeats):\n",
    "    dx_train, dx_test, dy_train, dy_test = train_test_split(dx, dy, test_size=0.25)\n",
    "    \n",
    "    clf = XGBClassifier(objective=\"multiclass:softmax\", learning_rate = 0.1, max_depth = 1, n_estimators = 300)\n",
    "    \n",
    "    clf.fit(dx_train, dy_train)\n",
    "    dy_pred = clf.predict(dx_test)\n",
    "\n",
    "    accuracies.append(accuracy_score(dy_test, dy_pred))\n",
    "\n",
    "print(\"Mean accuracy\", np.mean(accuracies))\n",
    "print(\"Standard deviation\", np.std(accuracies))\n",
    "confusion_matrix(dy_test, dy_pred)\n"
   ]
  }
 ],
 "metadata": {
  "kernelspec": {
   "display_name": "base",
   "language": "python",
   "name": "python3"
  },
  "language_info": {
   "codemirror_mode": {
    "name": "ipython",
    "version": 3
   },
   "file_extension": ".py",
   "mimetype": "text/x-python",
   "name": "python",
   "nbconvert_exporter": "python",
   "pygments_lexer": "ipython3",
   "version": "3.11.5"
  }
 },
 "nbformat": 4,
 "nbformat_minor": 2
}
