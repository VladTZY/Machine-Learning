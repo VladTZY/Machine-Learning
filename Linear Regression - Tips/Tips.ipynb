{
 "cells": [
  {
   "cell_type": "markdown",
   "metadata": {},
   "source": [
    "# Tip problem"
   ]
  },
  {
   "cell_type": "code",
   "execution_count": 2,
   "metadata": {},
   "outputs": [
    {
     "name": "stdout",
     "output_type": "stream",
     "text": [
      "6\n"
     ]
    },
    {
     "ename": "NameError",
     "evalue": "name 'by' is not defined",
     "output_type": "error",
     "traceback": [
      "\u001b[1;31m---------------------------------------------------------------------------\u001b[0m",
      "\u001b[1;31mNameError\u001b[0m                                 Traceback (most recent call last)",
      "\u001b[1;32md:\\Machine Learning\\Curs 1\\Tips.ipynb Cell 2\u001b[0m line \u001b[0;36m3\n\u001b[0;32m     <a href='vscode-notebook-cell:/d%3A/Machine%20Learning/Curs%201/Tips.ipynb#W1sZmlsZQ%3D%3D?line=27'>28</a>\u001b[0m bx_train \u001b[39m=\u001b[39m bx[:\u001b[39m-\u001b[39m\u001b[39m60\u001b[39m]\n\u001b[0;32m     <a href='vscode-notebook-cell:/d%3A/Machine%20Learning/Curs%201/Tips.ipynb#W1sZmlsZQ%3D%3D?line=28'>29</a>\u001b[0m bx_test \u001b[39m=\u001b[39m bx[\u001b[39m-\u001b[39m\u001b[39m60\u001b[39m:]\n\u001b[1;32m---> <a href='vscode-notebook-cell:/d%3A/Machine%20Learning/Curs%201/Tips.ipynb#W1sZmlsZQ%3D%3D?line=30'>31</a>\u001b[0m by_train \u001b[39m=\u001b[39m by[:\u001b[39m-\u001b[39m\u001b[39m60\u001b[39m]\n\u001b[0;32m     <a href='vscode-notebook-cell:/d%3A/Machine%20Learning/Curs%201/Tips.ipynb#W1sZmlsZQ%3D%3D?line=31'>32</a>\u001b[0m by_test \u001b[39m=\u001b[39m by[\u001b[39m-\u001b[39m\u001b[39m60\u001b[39m:]\n\u001b[0;32m     <a href='vscode-notebook-cell:/d%3A/Machine%20Learning/Curs%201/Tips.ipynb#W1sZmlsZQ%3D%3D?line=33'>34</a>\u001b[0m mlm \u001b[39m=\u001b[39m linear_model\u001b[39m.\u001b[39mLinearRegression()\n",
      "\u001b[1;31mNameError\u001b[0m: name 'by' is not defined"
     ]
    }
   ],
   "source": [
    "import pandas as pd\n",
    "import numpy as np\n",
    "\n",
    "from sklearn import datasets, linear_model\n",
    "from sklearn.metrics import mean_squared_error\n",
    "from sklearn.metrics import r2_score\n",
    "\n",
    "data = pd.read_csv(\"tips.csv\")\n",
    "\n",
    "weekday_to_number = {\n",
    "    \"Mon\": 0,\n",
    "    \"Tue\": 1,\n",
    "    \"Wed\": 2,\n",
    "    \"Thur\": 3,\n",
    "    \"Fri\": 4,\n",
    "    \"Sat\": 5,\n",
    "    \"Sun\": 6\n",
    "}\n",
    "\n",
    "bx = data.drop(['tip'], axis=1)\n",
    "bx[['sex']] = (bx[['sex']] == 'Male').astype(int)\n",
    "bx[['smoker']] = (bx[['smoker']] == 'Yes').astype(int)\n",
    "bx[['time']] = (bx[['time']] == \"Dinner\").astype(int)\n",
    "bx['day'] = [weekday_to_number[day] for day in bx['day']]\n",
    "\n",
    "by = data[['tip']]\n",
    "\n",
    "print(bx[\"day\"][2])\n",
    "\n",
    "bx_train = bx[:-60]\n",
    "bx_test = bx[-60:]\n",
    "\n",
    "by_train = by[:-60]\n",
    "by_test = by[-60:]\n",
    "\n",
    "mlm = linear_model.LinearRegression()\n",
    "mlm.fit(bx_train, by_train)\n",
    "\n",
    "by_pred = mlm.predict(bx_test)\n",
    "\n",
    "print(\"Coefficients: \\n\", mlm.coef_)\n",
    "print(\"Intercept:\", mlm.intercept_)\n",
    "\n",
    "print(\"Mse: %.2f\" % mean_squared_error(by_test, by_pred))\n",
    "print(\"R^2 %.2f\" % r2_score(by_test, by_pred))\n"
   ]
  }
 ],
 "metadata": {
  "kernelspec": {
   "display_name": "base",
   "language": "python",
   "name": "python3"
  },
  "language_info": {
   "codemirror_mode": {
    "name": "ipython",
    "version": 3
   },
   "file_extension": ".py",
   "mimetype": "text/x-python",
   "name": "python",
   "nbconvert_exporter": "python",
   "pygments_lexer": "ipython3",
   "version": "3.11.5"
  }
 },
 "nbformat": 4,
 "nbformat_minor": 2
}
