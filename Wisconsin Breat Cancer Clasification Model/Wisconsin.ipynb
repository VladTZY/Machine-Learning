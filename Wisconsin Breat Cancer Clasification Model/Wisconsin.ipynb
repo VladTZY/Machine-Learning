{
 "cells": [
  {
   "cell_type": "markdown",
   "metadata": {},
   "source": [
    "Logistic regression with SVM for detecting breast cancer from Wisconsin data"
   ]
  },
  {
   "cell_type": "code",
   "execution_count": 55,
   "metadata": {},
   "outputs": [
    {
     "name": "stdout",
     "output_type": "stream",
     "text": [
      "Mean accuracy 0.9584761904761906\n",
      "Standard deviation 0.011980331576012478\n"
     ]
    },
    {
     "data": {
      "text/plain": [
       "array([[107,   3],\n",
       "       [  0,  65]], dtype=int64)"
      ]
     },
     "execution_count": 55,
     "metadata": {},
     "output_type": "execute_result"
    }
   ],
   "source": [
    "import pandas as pd \n",
    "import numpy as np\n",
    "from sklearn.metrics import accuracy_score\n",
    "from sklearn.metrics import confusion_matrix\n",
    "from sklearn.model_selection import train_test_split\n",
    "from sklearn import svm\n",
    "\n",
    "repeats = 30\n",
    "accuracies = []\n",
    "\n",
    "data = pd.read_csv(\"breast-cancer-wisconsin.csv\")\n",
    "\n",
    "dx = data.iloc[:, 1:-1]\n",
    "dx = dx.drop(\" Bare Nuclei\", axis=1)\n",
    "dy = data.iloc[:, -1]\n",
    "\n",
    "for i in range(0, repeats):\n",
    "    dx_train, dx_test, dy_train, dy_test = train_test_split(dx, dy, test_size=0.25)\n",
    "    my_svm = svm.SVC(kernel=\"linear\")\n",
    "\n",
    "    #print(dx_train)\n",
    "\n",
    "    my_svm.fit(dx_train, dy_train)\n",
    "    dy_pred = my_svm.predict(dx_test)\n",
    "\n",
    "    accuracies.append(accuracy_score(dy_test, dy_pred))\n",
    "\n",
    "print(\"Mean accuracy\", np.mean(accuracies))\n",
    "print(\"Standard deviation\", np.std(accuracies))\n",
    "confusion_matrix(dy_test, dy_pred)"
   ]
  },
  {
   "cell_type": "code",
   "execution_count": null,
   "metadata": {},
   "outputs": [],
   "source": []
  }
 ],
 "metadata": {
  "kernelspec": {
   "display_name": "base",
   "language": "python",
   "name": "python3"
  },
  "language_info": {
   "codemirror_mode": {
    "name": "ipython",
    "version": 3
   },
   "file_extension": ".py",
   "mimetype": "text/x-python",
   "name": "python",
   "nbconvert_exporter": "python",
   "pygments_lexer": "ipython3",
   "version": "3.11.5"
  }
 },
 "nbformat": 4,
 "nbformat_minor": 2
}
