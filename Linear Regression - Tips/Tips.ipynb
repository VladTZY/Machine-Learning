{
 "cells": [
  {
   "cell_type": "markdown",
   "metadata": {},
   "source": [
    "# Tip problem"
   ]
  },
  {
   "cell_type": "code",
   "execution_count": 1,
   "metadata": {},
   "outputs": [
    {
     "name": "stdout",
     "output_type": "stream",
     "text": [
      "6\n",
      "Coefficients: \n",
      " [[ 0.0976179   0.04516273  0.23495313  0.08155687 -0.14371853  0.15357523]]\n",
      "Intercept: [0.35143674]\n",
      "Mse: 1.52\n",
      "R^2 0.26\n"
     ]
    }
   ],
   "source": [
    "import pandas as pd\n",
    "import numpy as np\n",
    "\n",
    "from sklearn import datasets, linear_model\n",
    "from sklearn.metrics import mean_squared_error\n",
    "from sklearn.metrics import r2_score\n",
    "\n",
    "data = pd.read_csv(\"tips.csv\")\n",
    "\n",
    "weekday_to_number = {\n",
    "    \"Mon\": 0,\n",
    "    \"Tue\": 1,\n",
    "    \"Wed\": 2,\n",
    "    \"Thur\": 3,\n",
    "    \"Fri\": 4,\n",
    "    \"Sat\": 5,\n",
    "    \"Sun\": 6\n",
    "}\n",
    "\n",
    "bx = data.drop(['tip'], axis=1)\n",
    "bx[['sex']] = (bx[['sex']] == 'Male').astype(int)\n",
    "bx[['smoker']] = (bx[['smoker']] == 'Yes').astype(int)\n",
    "bx[['time']] = (bx[['time']] == \"Dinner\").astype(int)\n",
    "bx['day'] = [weekday_to_number[day] for day in bx['day']]\n",
    "\n",
    "by = data[['tip']]\n",
    "\n",
    "bx_train = bx[:-60]\n",
    "bx_test = bx[-60:]\n",
    "\n",
    "by_train = by[:-60]\n",
    "by_test = by[-60:]\n",
    "\n",
    "mlm = linear_model.LinearRegression()\n",
    "mlm.fit(bx_train, by_train)\n",
    "\n",
    "by_pred = mlm.predict(bx_test)\n",
    "\n",
    "print(\"Coefficients: \\n\", mlm.coef_)\n",
    "print(\"Intercept:\", mlm.intercept_)\n",
    "\n",
    "print(\"Mse: %.2f\" % mean_squared_error(by_test, by_pred))\n",
    "print(\"R^2 %.2f\" % r2_score(by_test, by_pred))\n"
   ]
  }
 ],
 "metadata": {
  "kernelspec": {
   "display_name": "base",
   "language": "python",
   "name": "python3"
  },
  "language_info": {
   "codemirror_mode": {
    "name": "ipython",
    "version": 3
   },
   "file_extension": ".py",
   "mimetype": "text/x-python",
   "name": "python",
   "nbconvert_exporter": "python",
   "pygments_lexer": "ipython3",
   "version": "3.11.5"
  }
 },
 "nbformat": 4,
 "nbformat_minor": 2
}
