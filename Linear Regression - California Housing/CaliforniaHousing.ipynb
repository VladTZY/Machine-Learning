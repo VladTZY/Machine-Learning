{
 "cells": [
  {
   "cell_type": "markdown",
   "metadata": {},
   "source": [
    "# Multiple linear regression"
   ]
  },
  {
   "cell_type": "code",
   "execution_count": 4,
   "metadata": {},
   "outputs": [
    {
     "name": "stdout",
     "output_type": "stream",
     "text": [
      "Coefficients: \n",
      " [ 3.61128850e-01  4.72986219e-03  3.60172990e-02 -7.31186231e-02\n",
      "  6.56073271e-05 -1.35669730e-01 -2.36295984e-01 -3.25864961e-01]\n",
      "Intercept: -30.28551955514743\n",
      "Mse: 3.07\n",
      "R^2 -1.26\n"
     ]
    }
   ],
   "source": [
    "import matplotlib.pyplot as plt\n",
    "import numpy as np\n",
    "\n",
    "from sklearn import datasets, linear_model\n",
    "from sklearn.metrics import mean_squared_error\n",
    "from sklearn.metrics import r2_score\n",
    "\n",
    "bx, by = datasets.fetch_california_housing(return_X_y=True)\n",
    "\n",
    "bx_train = bx[:-18000]\n",
    "bx_test = bx[-18000:]\n",
    "\n",
    "by_train = by[:-18000]\n",
    "by_test = by[-18000:]\n",
    "\n",
    "mlm = linear_model.LinearRegression()\n",
    "\n",
    "mlm.fit(bx_train, by_train)\n",
    "\n",
    "by_pred = mlm.predict(bx_test)\n",
    "\n",
    "print(\"Coefficients: \\n\", mlm.coef_)\n",
    "print(\"Intercept:\", mlm.intercept_)\n",
    "\n",
    "print(\"Mse: %.2f\" % mean_squared_error(by_test, by_pred))\n",
    "print(\"R^2 %.2f\" % r2_score(by_test, by_pred))"
   ]
  }
 ],
 "metadata": {
  "kernelspec": {
   "display_name": "base",
   "language": "python",
   "name": "python3"
  },
  "language_info": {
   "codemirror_mode": {
    "name": "ipython",
    "version": 3
   },
   "file_extension": ".py",
   "mimetype": "text/x-python",
   "name": "python",
   "nbconvert_exporter": "python",
   "pygments_lexer": "ipython3",
   "version": "3.11.5"
  }
 },
 "nbformat": 4,
 "nbformat_minor": 2
}
