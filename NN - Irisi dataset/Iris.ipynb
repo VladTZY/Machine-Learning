{
 "cells": [
  {
   "cell_type": "markdown",
   "metadata": {},
   "source": [
    "Iris dataset solved with Neuronal Network"
   ]
  },
  {
   "cell_type": "code",
   "execution_count": 5,
   "metadata": {},
   "outputs": [
    {
     "name": "stdout",
     "output_type": "stream",
     "text": [
      "Mean accuracy 0.9626666666666668\n",
      "Standard deviation 0.023513589451397872\n"
     ]
    },
    {
     "data": {
      "text/plain": [
       "array([[18,  0,  0],\n",
       "       [ 0, 18,  3],\n",
       "       [ 0,  0, 11]], dtype=int64)"
      ]
     },
     "execution_count": 5,
     "metadata": {},
     "output_type": "execute_result"
    }
   ],
   "source": [
    "import pandas as pd\n",
    "import numpy as np\n",
    "import matplotlib.pyplot as plt\n",
    "from sklearn.metrics import accuracy_score\n",
    "from sklearn.metrics import confusion_matrix\n",
    "from sklearn.model_selection import train_test_split\n",
    "from sklearn.neural_network import MLPClassifier\n",
    "from sklearn import datasets\n",
    "from sklearn.preprocessing import MinMaxScaler\n",
    "\n",
    "repeats = 30\n",
    "accuracies = []\n",
    "scaler = MinMaxScaler()\n",
    "\n",
    "ix, iy = datasets.load_iris(return_X_y=True)\n",
    "\n",
    "for i in range(0, repeats):\n",
    "    ix_train, ix_test, iy_train, iy_test = train_test_split(ix, iy, test_size=0.33)\n",
    "\n",
    "    fit_scalar = scaler.fit(ix_train)\n",
    "    ix_train_scaled = fit_scalar.transform(ix_train)\n",
    "\n",
    "    nnm = MLPClassifier(hidden_layer_sizes=(6, 3), solver=\"adam\", activation=\"tanh\", max_iter=10000)\n",
    "    nnm.fit(ix_train_scaled, iy_train)\n",
    "\n",
    "    ix_test_scaled = fit_scalar.transform(ix_test)\n",
    "    iy_pred = nnm.predict(ix_test_scaled)\n",
    "    accuracies.append(accuracy_score(iy_test, iy_pred))\n",
    "\n",
    "print(\"Mean accuracy\", np.mean(accuracies))\n",
    "print(\"Standard deviation\", np.std(accuracies))\n",
    "confusion_matrix(iy_test, iy_pred)"
   ]
  }
 ],
 "metadata": {
  "kernelspec": {
   "display_name": "base",
   "language": "python",
   "name": "python3"
  },
  "language_info": {
   "codemirror_mode": {
    "name": "ipython",
    "version": 3
   },
   "file_extension": ".py",
   "mimetype": "text/x-python",
   "name": "python",
   "nbconvert_exporter": "python",
   "pygments_lexer": "ipython3",
   "version": "3.11.5"
  }
 },
 "nbformat": 4,
 "nbformat_minor": 2
}
