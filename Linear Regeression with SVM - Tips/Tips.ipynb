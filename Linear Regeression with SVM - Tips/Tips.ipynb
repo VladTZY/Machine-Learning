{
 "cells": [
  {
   "cell_type": "markdown",
   "metadata": {},
   "source": [
    "Linear Regression done using Support Vector Machines for the Tips problem\n"
   ]
  },
  {
   "cell_type": "code",
   "execution_count": 35,
   "metadata": {},
   "outputs": [
    {
     "name": "stdout",
     "output_type": "stream",
     "text": [
      "Mean MSE: 1.1462897755734864\n",
      "Standard deviation 0.33111203443134496\n",
      "R^2 0.3644800927822757\n"
     ]
    }
   ],
   "source": [
    "import numpy as np \n",
    "import pandas as pd \n",
    "from sklearn.metrics import mean_squared_error\n",
    "from sklearn.metrics import r2_score\n",
    "from sklearn.model_selection import train_test_split\n",
    "from sklearn import svm\n",
    "from sklearn.preprocessing import MinMaxScaler\n",
    "\n",
    "# Global var\n",
    "repeats = 30\n",
    "mses = []\n",
    "r2s = []\n",
    "\n",
    "# Modeling the data\n",
    "data = pd.read_csv(\"tips.csv\")\n",
    "\n",
    "weekday_to_number = {\n",
    "    \"Mon\": 0,\n",
    "    \"Tue\": 1,\n",
    "    \"Wed\": 2,\n",
    "    \"Thur\": 3,\n",
    "    \"Fri\": 4,\n",
    "    \"Sat\": 5,\n",
    "    \"Sun\": 6\n",
    "}\n",
    "\n",
    "bx = data.drop(['tip'], axis=1)\n",
    "bx[['sex']] = (bx[['sex']] == 'Male').astype(int)\n",
    "bx[['smoker']] = (bx[['smoker']] == 'Yes').astype(int)\n",
    "bx[['time']] = (bx[['time']] == \"Dinner\").astype(int)\n",
    "bx['day'] = [weekday_to_number[day] for day in bx['day']]\n",
    "\n",
    "by = data[['tip']]\n",
    "\n",
    "# Creating the scaler\n",
    "scaler = MinMaxScaler()\n",
    "\n",
    "# Modeling the data\n",
    "for i in range(0, repeats):\n",
    "    bx_train, bx_test, by_train, by_test = train_test_split(bx, by, test_size=0.25)\n",
    "    \n",
    "    # Scaling the data \n",
    "    fit_scalar = scaler.fit(bx_train)\n",
    "    bx_train_scaled = fit_scalar.transform(bx_train)\n",
    "\n",
    "    my_svm = svm.SVR(kernel = \"rbf\", gamma = 1, C = 10)\n",
    "    my_svm.fit(bx_train_scaled, by_train.values.ravel())\n",
    "\n",
    "    bx_test_scaled = fit_scalar.transform(bx_test)\n",
    "    by_pred = my_svm.predict(bx_test_scaled)\n",
    "\n",
    "    mses.append(mean_squared_error(by_test, by_pred))\n",
    "    r2s.append(r2_score(by_test, by_pred))\n",
    "\n",
    "print(\"Mean MSE:\", np.mean(mses))\n",
    "print(\"Standard deviation\", np.std(mses))\n",
    "print(\"R^2\", np.mean(r2s))\n",
    "\n",
    "\n"
   ]
  }
 ],
 "metadata": {
  "kernelspec": {
   "display_name": "base",
   "language": "python",
   "name": "python3"
  },
  "language_info": {
   "codemirror_mode": {
    "name": "ipython",
    "version": 3
   },
   "file_extension": ".py",
   "mimetype": "text/x-python",
   "name": "python",
   "nbconvert_exporter": "python",
   "pygments_lexer": "ipython3",
   "version": "3.11.5"
  }
 },
 "nbformat": 4,
 "nbformat_minor": 2
}
