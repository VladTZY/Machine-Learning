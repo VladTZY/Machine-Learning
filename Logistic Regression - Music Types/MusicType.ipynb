{
 "cells": [
  {
   "cell_type": "markdown",
   "metadata": {},
   "source": [
    "# Clasify music type"
   ]
  },
  {
   "cell_type": "code",
   "execution_count": 10,
   "metadata": {},
   "outputs": [
    {
     "name": "stdout",
     "output_type": "stream",
     "text": [
      "Accuracy: 0.79\n",
      "Confusion matrix:\n",
      "[[12  0  6]\n",
      " [ 2  0  1]\n",
      " [ 0  0 22]]\n"
     ]
    }
   ],
   "source": [
    "import pandas as pd\n",
    "\n",
    "from sklearn.linear_model import LogisticRegression\n",
    "from sklearn import metrics\n",
    "\n",
    "data = pd.read_csv(\"music-sub.csv\")\n",
    "\n",
    "dx = data.drop([\"Type\", \"Name\", \"Artist\"], axis = 1)\n",
    "dy = data[[\"Type\"]]\n",
    "\n",
    "dx_train = dx.iloc[:-43]\n",
    "dx_test = dx.iloc[-43:]\n",
    "\n",
    "dy_train = dy[:-43][\"Type\"].values.tolist()\n",
    "dy_test = dy[-43:][\"Type\"].values.tolist()\n",
    "\n",
    "mlr = LogisticRegression(max_iter = 200)\n",
    "mlr.fit(dx_train, dy_train)\n",
    "\n",
    "dy_pred = mlr.predict(dx_test)\n",
    "model_score = mlr.score(dx_test, dy_test)\n",
    "\n",
    "print(\"Accuracy: %.2f\" % model_score)\n",
    "print(\"Confusion matrix:\")\n",
    "print(metrics.confusion_matrix(dy_test, dy_pred))"
   ]
  }
 ],
 "metadata": {
  "kernelspec": {
   "display_name": "base",
   "language": "python",
   "name": "python3"
  },
  "language_info": {
   "codemirror_mode": {
    "name": "ipython",
    "version": 3
   },
   "file_extension": ".py",
   "mimetype": "text/x-python",
   "name": "python",
   "nbconvert_exporter": "python",
   "pygments_lexer": "ipython3",
   "version": "3.11.5"
  }
 },
 "nbformat": 4,
 "nbformat_minor": 2
}
