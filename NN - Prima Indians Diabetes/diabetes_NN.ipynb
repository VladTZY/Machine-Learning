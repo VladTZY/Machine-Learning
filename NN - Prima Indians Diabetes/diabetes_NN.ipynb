{
 "cells": [
  {
   "cell_type": "markdown",
   "metadata": {},
   "source": [
    "Prima indianas Diabetes problem solved with Neuronal Network"
   ]
  },
  {
   "cell_type": "code",
   "execution_count": 3,
   "metadata": {},
   "outputs": [
    {
     "name": "stdout",
     "output_type": "stream",
     "text": [
      "Mean accuracy 0.734548611111111\n",
      "Standard deviation 0.06308297747159768\n"
     ]
    },
    {
     "data": {
      "text/plain": [
       "array([[101,  16],\n",
       "       [ 28,  47]], dtype=int64)"
      ]
     },
     "execution_count": 3,
     "metadata": {},
     "output_type": "execute_result"
    }
   ],
   "source": [
    "import pandas as pd \n",
    "import numpy as np\n",
    "from sklearn.metrics import accuracy_score\n",
    "from sklearn.metrics import confusion_matrix\n",
    "from sklearn.model_selection import train_test_split\n",
    "from sklearn.neural_network import MLPClassifier\n",
    "from sklearn.preprocessing import MinMaxScaler\n",
    "\n",
    "repeats = 30\n",
    "accuracies = []\n",
    "scaler = MinMaxScaler()\n",
    "\n",
    "data = pd.read_csv(\"diabetes.csv\")\n",
    "\n",
    "dx = data.iloc[:, :-1]\n",
    "dy = data.iloc[:, -1]\n",
    "\n",
    "for i in range(0, repeats):\n",
    "    dx_train, dx_test, dy_train, dy_test = train_test_split(dx, dy, test_size=0.25)\n",
    "\n",
    "    fit_scalar = scaler.fit(dx_train)\n",
    "    dx_train_scaled = fit_scalar.transform(dx_train)\n",
    "\n",
    "    nnm = MLPClassifier(hidden_layer_sizes=(4, 2), solver=\"adam\", activation=\"tanh\", max_iter=10000)\n",
    "    nnm.fit(dx_train_scaled, dy_train)\n",
    "\n",
    "    dx_test_scaled = fit_scalar.transform(dx_test)\n",
    "    dy_pred = nnm.predict(dx_test_scaled)\n",
    "    accuracies.append(accuracy_score(dy_test, dy_pred))\n",
    "\n",
    "print(\"Mean accuracy\", np.mean(accuracies))\n",
    "print(\"Standard deviation\", np.std(accuracies))\n",
    "confusion_matrix(dy_test, dy_pred)"
   ]
  }
 ],
 "metadata": {
  "kernelspec": {
   "display_name": "base",
   "language": "python",
   "name": "python3"
  },
  "language_info": {
   "codemirror_mode": {
    "name": "ipython",
    "version": 3
   },
   "file_extension": ".py",
   "mimetype": "text/x-python",
   "name": "python",
   "nbconvert_exporter": "python",
   "pygments_lexer": "ipython3",
   "version": "3.11.5"
  }
 },
 "nbformat": 4,
 "nbformat_minor": 2
}
